{
 "cells": [
  {
   "cell_type": "code",
   "execution_count": 1,
   "metadata": {},
   "outputs": [],
   "source": [
    "import evaluate as eval\n",
    "from imports import *\n",
    "from wrangle import wrangle_zillow"
   ]
  },
  {
   "cell_type": "code",
   "execution_count": 2,
   "metadata": {},
   "outputs": [
    {
     "name": "stdout",
     "output_type": "stream",
     "text": [
      "Using cached csv\n"
     ]
    }
   ],
   "source": [
    "df=wrangle_zillow()"
   ]
  },
  {
   "cell_type": "code",
   "execution_count": null,
   "metadata": {},
   "outputs": [],
   "source": [
    "def ml_data(train, validate, test, target=list):\n",
    "\t'''\n",
    "\t->: train, validate, test \n",
    "\t<-: X_train, y_train, X_validate, y_validate, X_test, y_test\n",
    "\t'''\n",
    "\tX_train = train.drop(columns=target)\n",
    "\ty_train = train[target]\n",
    "\tX_validate = validate.drop(columns=target)\n",
    "\ty_validate = validate[target]\n",
    "\tX_test = test.drop(columns=target)\n",
    "\ty_test = test[target]\n",
    "\treturn [X_train, y_train, X_validate, y_validate, X_test, y_test]"
   ]
  },
  {
   "cell_type": "code",
   "execution_count": 4,
   "metadata": {},
   "outputs": [],
   "source": [
    "trunk=eval.ml_data(df[0],df[1],df[2],target=['property_value','taxes'])"
   ]
  },
  {
   "cell_type": "code",
   "execution_count": 5,
   "metadata": {},
   "outputs": [
    {
     "name": "stdout",
     "output_type": "stream",
     "text": [
      "<class 'pandas.core.frame.DataFrame'>\n",
      "RangeIndex: 1278128 entries, 0 to 1278127\n",
      "Data columns (total 2 columns):\n",
      " #   Column          Non-Null Count    Dtype  \n",
      "---  ------          --------------    -----  \n",
      " 0   property_value  1278128 non-null  float64\n",
      " 1   taxes           1278128 non-null  float64\n",
      "dtypes: float64(2)\n",
      "memory usage: 19.5 MB\n"
     ]
    }
   ],
   "source": [
    "trunk[1].info()"
   ]
  },
  {
   "cell_type": "code",
   "execution_count": null,
   "metadata": {},
   "outputs": [],
   "source": [
    "df['yhat_baseline'] = df[''].mean()\n",
    "df.head(3)\n"
   ]
  },
  {
   "cell_type": "markdown",
   "metadata": {},
   "source": [
    "# 2"
   ]
  },
  {
   "cell_type": "code",
   "execution_count": null,
   "metadata": {},
   "outputs": [],
   "source": [
    "model = LinearRegression().fit(df[['total_bill']],df.tip)\n",
    "\n"
   ]
  },
  {
   "cell_type": "code",
   "execution_count": null,
   "metadata": {},
   "outputs": [],
   "source": [
    "df['y_hat'] = model.predict(df[['total_bill']])"
   ]
  },
  {
   "cell_type": "code",
   "execution_count": null,
   "metadata": {},
   "outputs": [],
   "source": [
    "plt.plot(df['total_bill'],df['y_hat'],label='y_hat')\n",
    "plt.scatter(df['total_bill'],df['tip'],c='purple',label='tip',alpha=0.4)\n",
    "plt.axhline(df['tip'].mean(), c='maroon')\n",
    "plt.legend(loc='upper left')\n",
    "\n"
   ]
  },
  {
   "cell_type": "markdown",
   "metadata": {},
   "source": [
    "# 3"
   ]
  },
  {
   "cell_type": "code",
   "execution_count": null,
   "metadata": {},
   "outputs": [],
   "source": [
    "import warnings\n",
    "warnings.filterwarnings('ignore')\n"
   ]
  },
  {
   "cell_type": "code",
   "execution_count": null,
   "metadata": {},
   "outputs": [],
   "source": [
    "# compute residuals\n",
    "df['residual'] = df['y_hat'] - df['tip']\n",
    "df['residual_baseline'] = df['yhat_baseline'] - df['tip']\n"
   ]
  },
  {
   "cell_type": "code",
   "execution_count": null,
   "metadata": {},
   "outputs": [],
   "source": [
    "df.head()"
   ]
  },
  {
   "cell_type": "code",
   "execution_count": null,
   "metadata": {},
   "outputs": [],
   "source": [
    "plt.stem(df['total_bill'].sample(25),df['residual'].sample(25),'bo',markerfmt='bo',label='y_hat residuals')\n",
    "plt.stem(df['total_bill'].sample(25),df['residual_baseline'].sample(25),'mo',markerfmt='mo',label='yhat_baseline residuals')\n",
    "plt.axhline(0, c='maroon')\n",
    "plt.legend(loc='lower left')\n"
   ]
  },
  {
   "cell_type": "markdown",
   "metadata": {},
   "source": [
    "# 4 / 5"
   ]
  },
  {
   "cell_type": "code",
   "execution_count": null,
   "metadata": {},
   "outputs": [],
   "source": [
    "SSE2 = mean_squared_error(df.tip, df.y_hat)*len(df)\n",
    "SSE2_baseline = mean_squared_error(df.tip, df.yhat_baseline)*len(df)\n",
    "\n",
    "print(\"SSE sklearn: \",SSE2) \n",
    "print(\"SSE sklearn - baseline: \", SSE2_baseline) \n"
   ]
  },
  {
   "cell_type": "code",
   "execution_count": null,
   "metadata": {},
   "outputs": [],
   "source": [
    "MSE2 = mean_squared_error(df.tip, df.y_hat)\n",
    "MSE2_baseline = mean_squared_error(df.tip, df.yhat_baseline)\n",
    "\n",
    "\n",
    "print(\"MSE sklearn: \",MSE2) \n",
    "print(\"MSE sklearn - baseline: \",MSE2_baseline) \n"
   ]
  },
  {
   "cell_type": "markdown",
   "metadata": {},
   "source": [
    "# 6 "
   ]
  },
  {
   "cell_type": "code",
   "execution_count": null,
   "metadata": {},
   "outputs": [],
   "source": [
    "rmse = mean_squared_error(df.tip, df.y_hat, squared=False)\n",
    "rmse_baseline = mean_squared_error(df.tip, df.yhat_baseline, squared=False)\n",
    "\n",
    "\n",
    "print(\"rmse sklearn: \",rmse) \n",
    "print(\"rmse_baseline: \",rmse_baseline) \n"
   ]
  },
  {
   "cell_type": "code",
   "execution_count": null,
   "metadata": {},
   "outputs": [],
   "source": [
    "r2_score"
   ]
  },
  {
   "cell_type": "code",
   "execution_count": null,
   "metadata": {},
   "outputs": [],
   "source": [
    "if SSE2-SSE2_baseline<0:\n",
    "\tprint(\"y_hat superior\")\n",
    "else:\n",
    "\tprint(\"yhat_baseline superior\")\t"
   ]
  },
  {
   "cell_type": "markdown",
   "metadata": {},
   "source": [
    "# 7"
   ]
  },
  {
   "cell_type": "code",
   "execution_count": null,
   "metadata": {},
   "outputs": [],
   "source": [
    "# sklearn.metrics.explained_variance_score\n",
    "\n",
    "evs = explained_variance_score(df.tip, df.y_hat)\n",
    "print('Explained Variance = ', round(evs,3))\n"
   ]
  },
  {
   "cell_type": "markdown",
   "metadata": {},
   "source": [
    "# 8"
   ]
  },
  {
   "cell_type": "markdown",
   "metadata": {},
   "source": [
    "Our model did \"aight\". \n",
    "\n",
    "Our variance tells us that at least half the movement on the \"tips\" axis is, in fact, caused by the total price of the meal. \n",
    "\n",
    "Compared to our baseline, you can see that our model was almost twice as good at eliminating error."
   ]
  },
  {
   "cell_type": "markdown",
   "metadata": {},
   "source": [
    "# 10"
   ]
  },
  {
   "cell_type": "code",
   "execution_count": null,
   "metadata": {},
   "outputs": [],
   "source": [
    "import evaluate as eval"
   ]
  },
  {
   "cell_type": "code",
   "execution_count": null,
   "metadata": {},
   "outputs": [],
   "source": [
    "mpg=data('mpg')"
   ]
  },
  {
   "cell_type": "code",
   "execution_count": null,
   "metadata": {},
   "outputs": [],
   "source": [
    "mpg.head()"
   ]
  },
  {
   "cell_type": "code",
   "execution_count": null,
   "metadata": {},
   "outputs": [],
   "source": [
    "model = LinearRegression().fit(mpg[['displ']], mpg.hwy)"
   ]
  },
  {
   "cell_type": "code",
   "execution_count": null,
   "metadata": {},
   "outputs": [],
   "source": [
    "actual = mpg.hwy # y\n",
    "predicted = model.predict(mpg[['displ']]) # yhat"
   ]
  },
  {
   "cell_type": "code",
   "execution_count": null,
   "metadata": {},
   "outputs": [],
   "source": [
    "eval.regression_errors(actual, predicted)"
   ]
  },
  {
   "cell_type": "code",
   "execution_count": null,
   "metadata": {},
   "outputs": [],
   "source": [
    "eval.better_than_baseline(actual, predicted)"
   ]
  },
  {
   "cell_type": "code",
   "execution_count": null,
   "metadata": {},
   "outputs": [],
   "source": [
    "fig, ax = plt.subplots(figsize=(12, 7))\n",
    "ax.scatter(mpg.displ, mpg.hwy, label='actual')\n",
    "ax.scatter(mpg.displ, predicted, label='prediction')\n",
    "plt.legend(loc='best')\n"
   ]
  }
 ],
 "metadata": {
  "interpreter": {
   "hash": "3067ead486e059ec00ffe7555bdb889e6e264a24dc711bf108106cc7baee8d5d"
  },
  "kernelspec": {
   "display_name": "Python 3.9.7 ('base')",
   "language": "python",
   "name": "python3"
  },
  "language_info": {
   "codemirror_mode": {
    "name": "ipython",
    "version": 3
   },
   "file_extension": ".py",
   "mimetype": "text/x-python",
   "name": "python",
   "nbconvert_exporter": "python",
   "pygments_lexer": "ipython3",
   "version": "3.9.7"
  },
  "orig_nbformat": 4
 },
 "nbformat": 4,
 "nbformat_minor": 2
}
